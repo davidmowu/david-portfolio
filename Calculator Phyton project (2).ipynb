{
 "cells": [
  {
   "cell_type": "code",
   "execution_count": null,
   "id": "310af1b9-2fcc-4646-8615-db9e992fe562",
   "metadata": {},
   "outputs": [
    {
     "name": "stdout",
     "output_type": "stream",
     "text": [
      "Enter 'A' for Addition.\n",
      "Enter 'S' for Subtraction.\n",
      "Enter 'M' for Multiplication.\n",
      "Enter 'D' for Division.\n"
     ]
    }
   ],
   "source": [
    "def add(x,y):\n",
    "    return x + y\n",
    "\n",
    "def subtract(x,y):\n",
    "    return x - y\n",
    "\n",
    "def multiply(x,y):\n",
    "    return x * y\n",
    "\n",
    "def divide(x,y):\n",
    "    return x / y\n",
    "\n",
    "\n",
    "\n",
    "\n",
    "\n",
    "print(\"Enter 'A' for Addition.\")\n",
    "print(\"Enter 'S' for Subtraction.\")\n",
    "print(\"Enter 'M' for Multiplication.\")\n",
    "print(\"Enter 'D' for Division.\")\n",
    "\n",
    "\n",
    "while True: \n",
    "    choice = input('Enter Choice: (A,S,M,D): ')\n",
    "    \n",
    "    if choice.upper() in ('A','ADD','ADDITION','S','SUBTRACT', 'SUBTRACTION','M','MULTIPLY','MULTIPLICATION','D','DIVIDE','DIVISION'):\n",
    "        num1 = float(input('Enter first number: '))\n",
    "        num2 = float(input('Enter second number: '))\n",
    "    \n",
    "        if choice.upper() in ('A','ADD','ADDITION'):\n",
    "            print('Result:',num1, '+', num2, '=', add(num1,num2))\n",
    "    \n",
    "        elif choice.upper() in ('S','SUBTRACT', 'SUBTRACTION'):\n",
    "            print('Result:',num1, '-', num2, '=', subtract(num1,num2))\n",
    "    \n",
    "        elif choice.upper() in ('M','MULTIPLY','MULTIPLICATION'):\n",
    "            print('Result:',num1, '*', num2, '=', multiply(num1,num2))\n",
    "    \n",
    "        elif choice.upper() in ('D','DIVIDE','DIVISION'):\n",
    "            print('Result:',num1, '/', num2, '=', divide(num1,num2))\n",
    "    \n",
    "    else:\n",
    "        print(\"Please input a correct choice.\")\n",
    "\n",
    "    next_calculation = input(\"Want to do another calculation? (yes/no?): \")\n",
    "    if next_calculation.lower() in ('no', 'n', 'nope'):\n",
    "        break"
   ]
  },
  {
   "cell_type": "code",
   "execution_count": null,
   "id": "5b4515db-bd37-415e-a7a1-035c7be305ca",
   "metadata": {},
   "outputs": [],
   "source": []
  }
 ],
 "metadata": {
  "kernelspec": {
   "display_name": "Python [conda env:base] *",
   "language": "python",
   "name": "conda-base-py"
  },
  "language_info": {
   "codemirror_mode": {
    "name": "ipython",
    "version": 3
   },
   "file_extension": ".py",
   "mimetype": "text/x-python",
   "name": "python",
   "nbconvert_exporter": "python",
   "pygments_lexer": "ipython3",
   "version": "3.12.7"
  }
 },
 "nbformat": 4,
 "nbformat_minor": 5
}
