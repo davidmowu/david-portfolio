{
 "cells": [
  {
   "cell_type": "code",
   "execution_count": null,
   "id": "9b09f260-3fd1-430f-82f6-afda597b3e1f",
   "metadata": {},
   "outputs": [],
   "source": [
    "convert_from = input(\"Enter Starting Unit of Measurement(iniches, feet, yards): \")\n",
    "convert_to = input(\"Enter Unit of Measurement to convert to(iniches, feet, yards): \")\n",
    "number_of_inches = input(\"Enter Starting Measurement in Inches: \")\n",
    "number_of_feet= input(\"Enter Starting Measurement in Feet: \")\n",
    "number_of_yards= input(\"Enter Starting Measurement in Yards: \")\n",
    "\n",
    "\n",
    "\n",
    "convert_from = input(\"Enter Starting Unit of Measurement(iniches, feet, yards): \")\n",
    "convert_to = input(\"Enter Unit of Measurement to convert to(iniches, feet, yards): \")\n",
    "if convert_from.lower() in [\"inches\", \"in\", \"inch\"]:\n",
    "    number_of_inches = int(input(\"Enter Starting Measurement in Inches: \"))\n",
    "    if convert_to.lower() in [\"feet\", \"foot\", \"ft\"]:\n",
    "        print(\"Result: \" + str(number_of_inches) + \" inches = \" + str(round(number_of_inches / 12,2)) + \" feet\")\n",
    "    elif convert_to.lower() in [\"yards\", \"yard\", \"yds\", \"yd\"]:\n",
    "        print(\"Result: \" + str(number_of_inches) + \" inches = \" + str(round(number_of_inches / 36,2)) + \" yards\")\n",
    "    else:\n",
    "        print(\"Please Enter either Inches, Feet, or Yards\")\n",
    "elif convert_from.lower() in [\"feet\", \"foot\", \"ft\"]:\n",
    "    number_of_feet= int(input(\"Enter Starting Measurement in Feet: \"))\n",
    "    if convert_to.lower() in [\"inches\", \"in\", \"inch\"]:\n",
    "        print(\"Result: \" + str(number_of_feet) + \" feet = \" + str(round(number_of_feet * 12)) + \" inches\")\n",
    "    elif convert_to.lower() in [\"yards\", \"yard\", \"yds\", \"yd\"]:\n",
    "         print(\"Result: \" + str(number_of_feet) + \" feet = \" + str(round(number_of_feet / 3,2)) + \" yards\")\n",
    "    else:\n",
    "        print(\"Please Enter either Inches, Feet, or Yards\")\n",
    "elif convert_from.lower() in [\"yards\", \"yard\", \"yds\", \"yd\"]:\n",
    "    number_of_yards= int(input(\"Enter Starting Measurement in Yards: \"))\n",
    "    if convert_to.lower() in [\"inches\", \"in\", \"inch\"]:\n",
    "        print(\"Result: \" + str(number_of_yards) + \" yards = \" + str(round(number_of_yards * 36)) + \" inches\")\n",
    "    elif convert_to.lower() in [\"feet\", \"foot\", \"ft\"]:\n",
    "        print(\"Result: \" + str(number_of_yards) + \" yards = \" + str(round(number_of_yards * 3)) + \" feet\")\n",
    "    else:\n",
    "        print(\"Please Enter either Inches, Feet, or Yards\")\n",
    "else:\n",
    "    print(\"Please Enter either Inches, Feet, or Yards\")"
   ]
  },
  {
   "cell_type": "code",
   "execution_count": null,
   "id": "319a9741-d658-4f52-9f06-35c7cae950f9",
   "metadata": {},
   "outputs": [],
   "source": []
  },
  {
   "cell_type": "code",
   "execution_count": null,
   "id": "dc25f135-6d0a-42a6-a805-fa491862c44a",
   "metadata": {},
   "outputs": [],
   "source": []
  },
  {
   "cell_type": "code",
   "execution_count": null,
   "id": "b6753f76-b1f1-4104-bfd1-6d8922b9f1f7",
   "metadata": {},
   "outputs": [],
   "source": []
  },
  {
   "cell_type": "code",
   "execution_count": null,
   "id": "1a4694b9-d81f-466e-9058-bd3e25e5ba62",
   "metadata": {},
   "outputs": [],
   "source": []
  },
  {
   "cell_type": "code",
   "execution_count": null,
   "id": "b9a129eb-d218-4d21-af30-203fbeee3bcb",
   "metadata": {},
   "outputs": [],
   "source": []
  },
  {
   "cell_type": "code",
   "execution_count": null,
   "id": "488a4989-94c9-4956-be16-0a751a73dedd",
   "metadata": {},
   "outputs": [],
   "source": []
  },
  {
   "cell_type": "code",
   "execution_count": null,
   "id": "50986d3e-b840-4d8a-a3e5-4b96581b2a3f",
   "metadata": {},
   "outputs": [],
   "source": []
  },
  {
   "cell_type": "code",
   "execution_count": null,
   "id": "aa3aa5e2-8f51-47d4-9ede-ae7dbec6f59d",
   "metadata": {},
   "outputs": [],
   "source": []
  },
  {
   "cell_type": "code",
   "execution_count": null,
   "id": "54028f65-4eb2-4467-b509-e3d4ebba8083",
   "metadata": {},
   "outputs": [],
   "source": []
  }
 ],
 "metadata": {
  "kernelspec": {
   "display_name": "Python [conda env:base] *",
   "language": "python",
   "name": "conda-base-py"
  },
  "language_info": {
   "codemirror_mode": {
    "name": "ipython",
    "version": 3
   },
   "file_extension": ".py",
   "mimetype": "text/x-python",
   "name": "python",
   "nbconvert_exporter": "python",
   "pygments_lexer": "ipython3",
   "version": "3.12.7"
  }
 },
 "nbformat": 4,
 "nbformat_minor": 5
}
